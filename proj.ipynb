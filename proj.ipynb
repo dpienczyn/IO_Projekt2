{
 "metadata": {
  "language_info": {
   "codemirror_mode": {
    "name": "ipython",
    "version": 3
   },
   "file_extension": ".py",
   "mimetype": "text/x-python",
   "name": "python",
   "nbconvert_exporter": "python",
   "pygments_lexer": "ipython3",
   "version": "3.8.3-final"
  },
  "orig_nbformat": 2,
  "kernelspec": {
   "name": "python3",
   "display_name": "Python 3",
   "language": "python"
  }
 },
 "nbformat": 4,
 "nbformat_minor": 2,
 "cells": [
  {
   "cell_type": "code",
   "execution_count": 22,
   "metadata": {
    "tags": []
   },
   "outputs": [
    {
     "output_type": "stream",
     "name": "stdout",
     "text": [
      "Zestaw treningowy: (1279, 11) (1279,)\n",
      "\n",
      "Zestaw testowy: (320, 11) (320,)\n",
      "\n",
      "------------------------------------------------------------------------------------------------------------------------------------------------------\n",
      "Wyniki dla k równego 6\n",
      "\n",
      "Dokładność zestawu treningowego: 63.33 %\n",
      "\n",
      "Dokładność zestawu testowego: 49.06 %\n",
      "\n",
      "Macierz błędu dla k=6\n",
      " [[  0   0   1   0   1   0]\n",
      " [  0   0   8   2   1   0]\n",
      " [  0   0 100  35   1   0]\n",
      " [  0   2  62  50  11   0]\n",
      " [  0   1  13  23   7   0]\n",
      " [  0   0   1   0   1   0]]\n",
      "\n",
      "Raport klasyfikacyjny dla k=6\n",
      "               precision    recall  f1-score   support\n",
      "\n",
      "           3       0.00      0.00      0.00         2\n",
      "           4       0.00      0.00      0.00        11\n",
      "           5       0.54      0.74      0.62       136\n",
      "           6       0.45      0.40      0.43       125\n",
      "           7       0.32      0.16      0.21        44\n",
      "           8       0.00      0.00      0.00         2\n",
      "\n",
      "    accuracy                           0.49       320\n",
      "   macro avg       0.22      0.22      0.21       320\n",
      "weighted avg       0.45      0.49      0.46       320\n",
      "\n",
      "\n",
      "------------------------------------------------------------------------------------------------------------------------------------------------------\n",
      "Wyniki dla k równego 5\n",
      "\n",
      "\n",
      "Dokładność zestawu treningowego: 66.07 %\n",
      "\n",
      "Dokładność zestawu testowego: 50.62 %\n",
      "\n",
      "Macierz błędu dla k=5\n",
      " [[ 0  0  1  0  1  0]\n",
      " [ 0  0  8  2  1  0]\n",
      " [ 0  0 93 42  1  0]\n",
      " [ 0  2 52 58 13  0]\n",
      " [ 0  0 13 20 11  0]\n",
      " [ 0  0  2  0  0  0]]\n",
      "\n",
      "Raport klasyfikacyjny dla k=5\n",
      "               precision    recall  f1-score   support\n",
      "\n",
      "           3       0.00      0.00      0.00         2\n",
      "           4       0.00      0.00      0.00        11\n",
      "           5       0.55      0.68      0.61       136\n",
      "           6       0.48      0.46      0.47       125\n",
      "           7       0.41      0.25      0.31        44\n",
      "           8       0.00      0.00      0.00         2\n",
      "\n",
      "    accuracy                           0.51       320\n",
      "   macro avg       0.24      0.23      0.23       320\n",
      "weighted avg       0.48      0.51      0.49       320\n",
      "\n",
      "\n",
      "------------------------------------------------------------------------------------------------------------------------------------------------------\n",
      "Wyniki dla k równego 2\n",
      "\n",
      "Dokładność zestawu treningowego: 78.50 %\n",
      "\n",
      "Dokładność zestawu testowego: 53.44 %\n",
      "\n",
      "Macierz błędu dla k=2\n",
      " [[  0   2   0   0   0   0]\n",
      " [  1   1   6   3   0   0]\n",
      " [  2   4 114  15   1   0]\n",
      " [  0   6  63  46  10   0]\n",
      " [  0   2  12  20  10   0]\n",
      " [  0   0   0   2   0   0]]\n",
      "\n",
      "Raport klasyfikacyjny dla k=2\n",
      "               precision    recall  f1-score   support\n",
      "\n",
      "           3       0.00      0.00      0.00         2\n",
      "           4       0.07      0.09      0.08        11\n",
      "           5       0.58      0.84      0.69       136\n",
      "           6       0.53      0.37      0.44       125\n",
      "           7       0.48      0.23      0.31        44\n",
      "           8       0.00      0.00      0.00         2\n",
      "\n",
      "    accuracy                           0.53       320\n",
      "   macro avg       0.28      0.25      0.25       320\n",
      "weighted avg       0.53      0.53      0.51       320\n",
      "\n",
      "\n",
      "------------------------------------------------------------------------------------------------------------------------------------------------------\n",
      "Wyniki dla k równego 1\n",
      "\n",
      "------------------------------------------------------------------------------------------------------------------------------------------------------\n",
      "Dokładność zestawu treningowego: 100.00 %\n",
      "\n",
      "Dokładność zestawu testowego: 62.81 %\n",
      "\n",
      "Macierz błędu dla k=1\n",
      " [[  0   2   0   0   0   0]\n",
      " [  0   1   3   5   1   1]\n",
      " [  1   2 108  22   3   0]\n",
      " [  0   3  34  68  18   2]\n",
      " [  0   1   4  15  24   0]\n",
      " [  0   0   0   1   1   0]]\n",
      "\n",
      "Raport klasyfikacyjny dla k=1\n",
      "               precision    recall  f1-score   support\n",
      "\n",
      "           3       0.00      0.00      0.00         2\n",
      "           4       0.11      0.09      0.10        11\n",
      "           5       0.72      0.79      0.76       136\n",
      "           6       0.61      0.54      0.58       125\n",
      "           7       0.51      0.55      0.53        44\n",
      "           8       0.00      0.00      0.00         2\n",
      "\n",
      "    accuracy                           0.63       320\n",
      "   macro avg       0.33      0.33      0.33       320\n",
      "weighted avg       0.62      0.63      0.62       320\n",
      "\n",
      "\n",
      "------------------------------------------------------------------------------------------------------------------------------------------------------\n",
      "Naive Bayes\n",
      "\n",
      "------------------------------------------------------------------------------------------------------------------------------------------------------\n",
      "Dokładność zestawu testowego: 57.50 %\n",
      "\n",
      "Macierz błędu dla Naive Bayes\n",
      " [[ 0  2  0  0  0  0]\n",
      " [ 0  1  4  6  0  0]\n",
      " [ 0  4 96 35  1  0]\n",
      " [ 0  2 33 66 22  2]\n",
      " [ 0  0  3 18 21  2]\n",
      " [ 0  0  0  1  1  0]]\n",
      "\n",
      "Raport klasyfikacyjny dla Naive Bayes\n",
      "               precision    recall  f1-score   support\n",
      "\n",
      "           3       0.00      0.00      0.00         2\n",
      "           4       0.11      0.09      0.10        11\n",
      "           5       0.71      0.71      0.71       136\n",
      "           6       0.52      0.53      0.53       125\n",
      "           7       0.47      0.48      0.47        44\n",
      "           8       0.00      0.00      0.00         2\n",
      "\n",
      "    accuracy                           0.57       320\n",
      "   macro avg       0.30      0.30      0.30       320\n",
      "weighted avg       0.57      0.57      0.57       320\n",
      "\n",
      "\n",
      "------------------------------------------------------------------------------------------------------------------------------------------------------\n",
      "Drzewa decyzyjne\n",
      "\n",
      "------------------------------------------------------------------------------------------------------------------------------------------------------\n",
      "Dokładność zestawu testowego: 66.56 %\n",
      "\n",
      "Macierz błędu dla Drzewa decyzyjnych\n",
      " [[  0   1   1   0   0   0]\n",
      " [  1   0   2   6   2   0]\n",
      " [  0   4 100  29   3   0]\n",
      " [  0   0  23  90  11   1]\n",
      " [  0   0   5  15  23   1]\n",
      " [  0   0   1   0   1   0]]\n",
      "\n",
      "Raport klasyfikacyjny dla Drzewa decyzyjnych\n",
      "               precision    recall  f1-score   support\n",
      "\n",
      "           3       0.00      0.00      0.00         2\n",
      "           4       0.00      0.00      0.00        11\n",
      "           5       0.76      0.74      0.75       136\n",
      "           6       0.64      0.72      0.68       125\n",
      "           7       0.57      0.52      0.55        44\n",
      "           8       0.00      0.00      0.00         2\n",
      "\n",
      "    accuracy                           0.67       320\n",
      "   macro avg       0.33      0.33      0.33       320\n",
      "weighted avg       0.65      0.67      0.66       320\n",
      "\n",
      "\n",
      "------------------------------------------------------------------------------------------------------------------------------------------------------\n",
      "Sieci neuronowe\n",
      "------------------------------------------------------------------------------------------------------------------------------------------------------\n",
      "Model: \"sequential_17\"\n",
      "_________________________________________________________________\n",
      "Layer (type)                 Output Shape              Param #   \n",
      "=================================================================\n",
      "dense_51 (Dense)             (None, 2000)              24000     \n",
      "_________________________________________________________________\n",
      "dense_52 (Dense)             (None, 100)               200100    \n",
      "_________________________________________________________________\n",
      "dense_53 (Dense)             (None, 1)                 101       \n",
      "=================================================================\n",
      "Total params: 224,201\n",
      "Trainable params: 224,201\n",
      "Non-trainable params: 0\n",
      "_________________________________________________________________\n",
      "Epoch 1/10\n",
      "40/40 [==============================] - 0s 6ms/step - loss: 4.8468 - mean_squared_error: 4.8468\n",
      "Epoch 2/10\n",
      "40/40 [==============================] - 0s 5ms/step - loss: 0.6015 - mean_squared_error: 0.6015\n",
      "Epoch 3/10\n",
      "40/40 [==============================] - 0s 6ms/step - loss: 0.5365 - mean_squared_error: 0.5365\n",
      "Epoch 4/10\n",
      "40/40 [==============================] - 0s 6ms/step - loss: 0.5183 - mean_squared_error: 0.5183\n",
      "Epoch 5/10\n",
      "40/40 [==============================] - 0s 6ms/step - loss: 0.5130 - mean_squared_error: 0.5130\n",
      "Epoch 6/10\n",
      "40/40 [==============================] - 0s 6ms/step - loss: 0.5035 - mean_squared_error: 0.5035\n",
      "Epoch 7/10\n",
      "40/40 [==============================] - 0s 6ms/step - loss: 0.6382 - mean_squared_error: 0.6382\n",
      "Epoch 8/10\n",
      "40/40 [==============================] - 0s 6ms/step - loss: 0.4891 - mean_squared_error: 0.4891\n",
      "Epoch 9/10\n",
      "40/40 [==============================] - 0s 6ms/step - loss: 0.5606 - mean_squared_error: 0.5606\n",
      "Epoch 10/10\n",
      "40/40 [==============================] - 0s 6ms/step - loss: 0.4955 - mean_squared_error: 0.4955\n",
      "60.961053140509314\n",
      "Epoch 1/10\n",
      "40/40 [==============================] - 1s 26ms/step - loss: 0.5260 - mean_squared_error: 0.5260 - val_loss: 0.5674 - val_mean_squared_error: 0.5674\n",
      "Epoch 2/10\n",
      "40/40 [==============================] - 0s 9ms/step - loss: 0.5103 - mean_squared_error: 0.5103 - val_loss: 0.4861 - val_mean_squared_error: 0.4861\n",
      "Epoch 3/10\n",
      "40/40 [==============================] - 0s 9ms/step - loss: 0.4637 - mean_squared_error: 0.4637 - val_loss: 0.5334 - val_mean_squared_error: 0.5334\n",
      "Epoch 4/10\n",
      "40/40 [==============================] - 0s 8ms/step - loss: 0.4644 - mean_squared_error: 0.4644 - val_loss: 0.6136 - val_mean_squared_error: 0.6136\n",
      "Epoch 5/10\n",
      "40/40 [==============================] - 0s 11ms/step - loss: 0.4730 - mean_squared_error: 0.4730 - val_loss: 0.5195 - val_mean_squared_error: 0.5195\n",
      "Epoch 6/10\n",
      "40/40 [==============================] - 0s 9ms/step - loss: 0.5088 - mean_squared_error: 0.5088 - val_loss: 0.5975 - val_mean_squared_error: 0.5975\n",
      "Epoch 7/10\n",
      "40/40 [==============================] - 0s 8ms/step - loss: 0.4957 - mean_squared_error: 0.4957 - val_loss: 0.4505 - val_mean_squared_error: 0.4505\n",
      "Epoch 8/10\n",
      "40/40 [==============================] - 0s 10ms/step - loss: 0.5542 - mean_squared_error: 0.5542 - val_loss: 0.6677 - val_mean_squared_error: 0.6677\n",
      "Epoch 9/10\n",
      "40/40 [==============================] - 0s 8ms/step - loss: 0.5024 - mean_squared_error: 0.5024 - val_loss: 0.4754 - val_mean_squared_error: 0.4754\n",
      "Epoch 10/10\n",
      "40/40 [==============================] - 0s 9ms/step - loss: 0.5520 - mean_squared_error: 0.5520 - val_loss: 0.4417 - val_mean_squared_error: 0.4417\n",
      "66.46062685422505\n",
      "Random forest\n",
      "------------------------------------------------------------------------------------------------------------------------------------------------------\n",
      "------------------------------------------------------------------------------------------------------------------------------------------------------\n",
      "Dokładność zestawu testowego: 71.5625\n",
      "\n",
      "Macierz błędu dla Random forest\n",
      " [[  0   0   2   0   0   0]\n",
      " [  0   0   5   5   1   0]\n",
      " [  0   1 116  18   1   0]\n",
      " [  0   0  28  90   7   0]\n",
      " [  0   0   1  20  23   0]\n",
      " [  0   0   0   1   1   0]]\n",
      "\n",
      "Raport klasyfikacyjny dla Random forest\n",
      "               precision    recall  f1-score   support\n",
      "\n",
      "           3       0.00      0.00      0.00         2\n",
      "           4       0.00      0.00      0.00        11\n",
      "           5       0.76      0.85      0.81       136\n",
      "           6       0.67      0.72      0.69       125\n",
      "           7       0.70      0.52      0.60        44\n",
      "           8       0.00      0.00      0.00         2\n",
      "\n",
      "    accuracy                           0.72       320\n",
      "   macro avg       0.36      0.35      0.35       320\n",
      "weighted avg       0.68      0.72      0.70       320\n",
      "\n",
      "\n",
      "Support Vector Machines\n",
      "\n",
      "------------------------------------------------------------------------------------------------------------------------------------------------------\n",
      "Dokładność zestawu testowego: 58.13 %\n",
      "\n",
      "Macierz błędu dla Support Vector Machines\n",
      " [[  0   0   2   0   0   0]\n",
      " [  0   0   7   4   0   0]\n",
      " [  0   0 106  30   0   0]\n",
      " [  0   0  45  80   0   0]\n",
      " [  0   0   4  40   0   0]\n",
      " [  0   0   0   2   0   0]]\n",
      "\n",
      "Raport klasyfikacyjny dla Support Vector Machines\n",
      "               precision    recall  f1-score   support\n",
      "\n",
      "           3       0.00      0.00      0.00         2\n",
      "           4       0.00      0.00      0.00        11\n",
      "           5       0.65      0.78      0.71       136\n",
      "           6       0.51      0.64      0.57       125\n",
      "           7       0.00      0.00      0.00        44\n",
      "           8       0.00      0.00      0.00         2\n",
      "\n",
      "    accuracy                           0.58       320\n",
      "   macro avg       0.19      0.24      0.21       320\n",
      "weighted avg       0.48      0.58      0.52       320\n",
      "\n",
      "\n",
      "------------------------------------------------------------------------------------------------------------------------------------------------------\n",
      "Porównywanie klasyfikatorów\n",
      "\n"
     ]
    },
    {
     "output_type": "display_data",
     "data": {
      "application/vnd.plotly.v1+json": {
       "config": {
        "linkText": "Export to plot.ly",
        "plotlyServerURL": "https://plot.ly",
        "showLink": false
       },
       "data": [
        {
         "marker": {
          "color": "rgb(158,202,225)",
          "line": {
           "color": "rgba(254, 69, 62, 1)",
           "width": 1.5
          }
         },
         "opacity": 0.6,
         "type": "bar",
         "x": [
          "k = 6",
          "k = 5",
          "k = 2",
          "k = 1",
          "Naive Bayes",
          "Drzewa decyzyjne",
          "Sieci neuronowe",
          "Random Forest",
          "Support Vector Machines"
         ],
         "y": [
          49.0625,
          50.625,
          53.43750000000001,
          62.81250000000001,
          57.49999999999999,
          66.5625,
          66.46062685422505,
          71.5625,
          58.12500000000001
         ]
        }
       ],
       "layout": {
        "template": {
         "data": {
          "bar": [
           {
            "error_x": {
             "color": "#2a3f5f"
            },
            "error_y": {
             "color": "#2a3f5f"
            },
            "marker": {
             "line": {
              "color": "#E5ECF6",
              "width": 0.5
             }
            },
            "type": "bar"
           }
          ],
          "barpolar": [
           {
            "marker": {
             "line": {
              "color": "#E5ECF6",
              "width": 0.5
             }
            },
            "type": "barpolar"
           }
          ],
          "carpet": [
           {
            "aaxis": {
             "endlinecolor": "#2a3f5f",
             "gridcolor": "white",
             "linecolor": "white",
             "minorgridcolor": "white",
             "startlinecolor": "#2a3f5f"
            },
            "baxis": {
             "endlinecolor": "#2a3f5f",
             "gridcolor": "white",
             "linecolor": "white",
             "minorgridcolor": "white",
             "startlinecolor": "#2a3f5f"
            },
            "type": "carpet"
           }
          ],
          "choropleth": [
           {
            "colorbar": {
             "outlinewidth": 0,
             "ticks": ""
            },
            "type": "choropleth"
           }
          ],
          "contour": [
           {
            "colorbar": {
             "outlinewidth": 0,
             "ticks": ""
            },
            "colorscale": [
             [
              0,
              "#0d0887"
             ],
             [
              0.1111111111111111,
              "#46039f"
             ],
             [
              0.2222222222222222,
              "#7201a8"
             ],
             [
              0.3333333333333333,
              "#9c179e"
             ],
             [
              0.4444444444444444,
              "#bd3786"
             ],
             [
              0.5555555555555556,
              "#d8576b"
             ],
             [
              0.6666666666666666,
              "#ed7953"
             ],
             [
              0.7777777777777778,
              "#fb9f3a"
             ],
             [
              0.8888888888888888,
              "#fdca26"
             ],
             [
              1,
              "#f0f921"
             ]
            ],
            "type": "contour"
           }
          ],
          "contourcarpet": [
           {
            "colorbar": {
             "outlinewidth": 0,
             "ticks": ""
            },
            "type": "contourcarpet"
           }
          ],
          "heatmap": [
           {
            "colorbar": {
             "outlinewidth": 0,
             "ticks": ""
            },
            "colorscale": [
             [
              0,
              "#0d0887"
             ],
             [
              0.1111111111111111,
              "#46039f"
             ],
             [
              0.2222222222222222,
              "#7201a8"
             ],
             [
              0.3333333333333333,
              "#9c179e"
             ],
             [
              0.4444444444444444,
              "#bd3786"
             ],
             [
              0.5555555555555556,
              "#d8576b"
             ],
             [
              0.6666666666666666,
              "#ed7953"
             ],
             [
              0.7777777777777778,
              "#fb9f3a"
             ],
             [
              0.8888888888888888,
              "#fdca26"
             ],
             [
              1,
              "#f0f921"
             ]
            ],
            "type": "heatmap"
           }
          ],
          "heatmapgl": [
           {
            "colorbar": {
             "outlinewidth": 0,
             "ticks": ""
            },
            "colorscale": [
             [
              0,
              "#0d0887"
             ],
             [
              0.1111111111111111,
              "#46039f"
             ],
             [
              0.2222222222222222,
              "#7201a8"
             ],
             [
              0.3333333333333333,
              "#9c179e"
             ],
             [
              0.4444444444444444,
              "#bd3786"
             ],
             [
              0.5555555555555556,
              "#d8576b"
             ],
             [
              0.6666666666666666,
              "#ed7953"
             ],
             [
              0.7777777777777778,
              "#fb9f3a"
             ],
             [
              0.8888888888888888,
              "#fdca26"
             ],
             [
              1,
              "#f0f921"
             ]
            ],
            "type": "heatmapgl"
           }
          ],
          "histogram": [
           {
            "marker": {
             "colorbar": {
              "outlinewidth": 0,
              "ticks": ""
             }
            },
            "type": "histogram"
           }
          ],
          "histogram2d": [
           {
            "colorbar": {
             "outlinewidth": 0,
             "ticks": ""
            },
            "colorscale": [
             [
              0,
              "#0d0887"
             ],
             [
              0.1111111111111111,
              "#46039f"
             ],
             [
              0.2222222222222222,
              "#7201a8"
             ],
             [
              0.3333333333333333,
              "#9c179e"
             ],
             [
              0.4444444444444444,
              "#bd3786"
             ],
             [
              0.5555555555555556,
              "#d8576b"
             ],
             [
              0.6666666666666666,
              "#ed7953"
             ],
             [
              0.7777777777777778,
              "#fb9f3a"
             ],
             [
              0.8888888888888888,
              "#fdca26"
             ],
             [
              1,
              "#f0f921"
             ]
            ],
            "type": "histogram2d"
           }
          ],
          "histogram2dcontour": [
           {
            "colorbar": {
             "outlinewidth": 0,
             "ticks": ""
            },
            "colorscale": [
             [
              0,
              "#0d0887"
             ],
             [
              0.1111111111111111,
              "#46039f"
             ],
             [
              0.2222222222222222,
              "#7201a8"
             ],
             [
              0.3333333333333333,
              "#9c179e"
             ],
             [
              0.4444444444444444,
              "#bd3786"
             ],
             [
              0.5555555555555556,
              "#d8576b"
             ],
             [
              0.6666666666666666,
              "#ed7953"
             ],
             [
              0.7777777777777778,
              "#fb9f3a"
             ],
             [
              0.8888888888888888,
              "#fdca26"
             ],
             [
              1,
              "#f0f921"
             ]
            ],
            "type": "histogram2dcontour"
           }
          ],
          "mesh3d": [
           {
            "colorbar": {
             "outlinewidth": 0,
             "ticks": ""
            },
            "type": "mesh3d"
           }
          ],
          "parcoords": [
           {
            "line": {
             "colorbar": {
              "outlinewidth": 0,
              "ticks": ""
             }
            },
            "type": "parcoords"
           }
          ],
          "pie": [
           {
            "automargin": true,
            "type": "pie"
           }
          ],
          "scatter": [
           {
            "marker": {
             "colorbar": {
              "outlinewidth": 0,
              "ticks": ""
             }
            },
            "type": "scatter"
           }
          ],
          "scatter3d": [
           {
            "line": {
             "colorbar": {
              "outlinewidth": 0,
              "ticks": ""
             }
            },
            "marker": {
             "colorbar": {
              "outlinewidth": 0,
              "ticks": ""
             }
            },
            "type": "scatter3d"
           }
          ],
          "scattercarpet": [
           {
            "marker": {
             "colorbar": {
              "outlinewidth": 0,
              "ticks": ""
             }
            },
            "type": "scattercarpet"
           }
          ],
          "scattergeo": [
           {
            "marker": {
             "colorbar": {
              "outlinewidth": 0,
              "ticks": ""
             }
            },
            "type": "scattergeo"
           }
          ],
          "scattergl": [
           {
            "marker": {
             "colorbar": {
              "outlinewidth": 0,
              "ticks": ""
             }
            },
            "type": "scattergl"
           }
          ],
          "scattermapbox": [
           {
            "marker": {
             "colorbar": {
              "outlinewidth": 0,
              "ticks": ""
             }
            },
            "type": "scattermapbox"
           }
          ],
          "scatterpolar": [
           {
            "marker": {
             "colorbar": {
              "outlinewidth": 0,
              "ticks": ""
             }
            },
            "type": "scatterpolar"
           }
          ],
          "scatterpolargl": [
           {
            "marker": {
             "colorbar": {
              "outlinewidth": 0,
              "ticks": ""
             }
            },
            "type": "scatterpolargl"
           }
          ],
          "scatterternary": [
           {
            "marker": {
             "colorbar": {
              "outlinewidth": 0,
              "ticks": ""
             }
            },
            "type": "scatterternary"
           }
          ],
          "surface": [
           {
            "colorbar": {
             "outlinewidth": 0,
             "ticks": ""
            },
            "colorscale": [
             [
              0,
              "#0d0887"
             ],
             [
              0.1111111111111111,
              "#46039f"
             ],
             [
              0.2222222222222222,
              "#7201a8"
             ],
             [
              0.3333333333333333,
              "#9c179e"
             ],
             [
              0.4444444444444444,
              "#bd3786"
             ],
             [
              0.5555555555555556,
              "#d8576b"
             ],
             [
              0.6666666666666666,
              "#ed7953"
             ],
             [
              0.7777777777777778,
              "#fb9f3a"
             ],
             [
              0.8888888888888888,
              "#fdca26"
             ],
             [
              1,
              "#f0f921"
             ]
            ],
            "type": "surface"
           }
          ],
          "table": [
           {
            "cells": {
             "fill": {
              "color": "#EBF0F8"
             },
             "line": {
              "color": "white"
             }
            },
            "header": {
             "fill": {
              "color": "#C8D4E3"
             },
             "line": {
              "color": "white"
             }
            },
            "type": "table"
           }
          ]
         },
         "layout": {
          "annotationdefaults": {
           "arrowcolor": "#2a3f5f",
           "arrowhead": 0,
           "arrowwidth": 1
          },
          "autotypenumbers": "strict",
          "coloraxis": {
           "colorbar": {
            "outlinewidth": 0,
            "ticks": ""
           }
          },
          "colorscale": {
           "diverging": [
            [
             0,
             "#8e0152"
            ],
            [
             0.1,
             "#c51b7d"
            ],
            [
             0.2,
             "#de77ae"
            ],
            [
             0.3,
             "#f1b6da"
            ],
            [
             0.4,
             "#fde0ef"
            ],
            [
             0.5,
             "#f7f7f7"
            ],
            [
             0.6,
             "#e6f5d0"
            ],
            [
             0.7,
             "#b8e186"
            ],
            [
             0.8,
             "#7fbc41"
            ],
            [
             0.9,
             "#4d9221"
            ],
            [
             1,
             "#276419"
            ]
           ],
           "sequential": [
            [
             0,
             "#0d0887"
            ],
            [
             0.1111111111111111,
             "#46039f"
            ],
            [
             0.2222222222222222,
             "#7201a8"
            ],
            [
             0.3333333333333333,
             "#9c179e"
            ],
            [
             0.4444444444444444,
             "#bd3786"
            ],
            [
             0.5555555555555556,
             "#d8576b"
            ],
            [
             0.6666666666666666,
             "#ed7953"
            ],
            [
             0.7777777777777778,
             "#fb9f3a"
            ],
            [
             0.8888888888888888,
             "#fdca26"
            ],
            [
             1,
             "#f0f921"
            ]
           ],
           "sequentialminus": [
            [
             0,
             "#0d0887"
            ],
            [
             0.1111111111111111,
             "#46039f"
            ],
            [
             0.2222222222222222,
             "#7201a8"
            ],
            [
             0.3333333333333333,
             "#9c179e"
            ],
            [
             0.4444444444444444,
             "#bd3786"
            ],
            [
             0.5555555555555556,
             "#d8576b"
            ],
            [
             0.6666666666666666,
             "#ed7953"
            ],
            [
             0.7777777777777778,
             "#fb9f3a"
            ],
            [
             0.8888888888888888,
             "#fdca26"
            ],
            [
             1,
             "#f0f921"
            ]
           ]
          },
          "colorway": [
           "#636efa",
           "#EF553B",
           "#00cc96",
           "#ab63fa",
           "#FFA15A",
           "#19d3f3",
           "#FF6692",
           "#B6E880",
           "#FF97FF",
           "#FECB52"
          ],
          "font": {
           "color": "#2a3f5f"
          },
          "geo": {
           "bgcolor": "white",
           "lakecolor": "white",
           "landcolor": "#E5ECF6",
           "showlakes": true,
           "showland": true,
           "subunitcolor": "white"
          },
          "hoverlabel": {
           "align": "left"
          },
          "hovermode": "closest",
          "mapbox": {
           "style": "light"
          },
          "paper_bgcolor": "white",
          "plot_bgcolor": "#E5ECF6",
          "polar": {
           "angularaxis": {
            "gridcolor": "white",
            "linecolor": "white",
            "ticks": ""
           },
           "bgcolor": "#E5ECF6",
           "radialaxis": {
            "gridcolor": "white",
            "linecolor": "white",
            "ticks": ""
           }
          },
          "scene": {
           "xaxis": {
            "backgroundcolor": "#E5ECF6",
            "gridcolor": "white",
            "gridwidth": 2,
            "linecolor": "white",
            "showbackground": true,
            "ticks": "",
            "zerolinecolor": "white"
           },
           "yaxis": {
            "backgroundcolor": "#E5ECF6",
            "gridcolor": "white",
            "gridwidth": 2,
            "linecolor": "white",
            "showbackground": true,
            "ticks": "",
            "zerolinecolor": "white"
           },
           "zaxis": {
            "backgroundcolor": "#E5ECF6",
            "gridcolor": "white",
            "gridwidth": 2,
            "linecolor": "white",
            "showbackground": true,
            "ticks": "",
            "zerolinecolor": "white"
           }
          },
          "shapedefaults": {
           "line": {
            "color": "#2a3f5f"
           }
          },
          "ternary": {
           "aaxis": {
            "gridcolor": "white",
            "linecolor": "white",
            "ticks": ""
           },
           "baxis": {
            "gridcolor": "white",
            "linecolor": "white",
            "ticks": ""
           },
           "bgcolor": "#E5ECF6",
           "caxis": {
            "gridcolor": "white",
            "linecolor": "white",
            "ticks": ""
           }
          },
          "title": {
           "x": 0.05
          },
          "xaxis": {
           "automargin": true,
           "gridcolor": "white",
           "linecolor": "white",
           "ticks": "",
           "title": {
            "standoff": 15
           },
           "zerolinecolor": "white",
           "zerolinewidth": 2
          },
          "yaxis": {
           "automargin": true,
           "gridcolor": "white",
           "linecolor": "white",
           "ticks": "",
           "title": {
            "standoff": 15
           },
           "zerolinecolor": "white",
           "zerolinewidth": 2
          }
         }
        }
       }
      }
     },
     "metadata": {}
    }
   ],
   "source": [
    "import itertools\n",
    "import numpy as np\n",
    "import matplotlib.pyplot as plt\n",
    "from matplotlib.ticker import NullFormatter\n",
    "import pandas as pd\n",
    "import numpy as np\n",
    "import keras\n",
    "from keras.models import Sequential\n",
    "from keras.layers import Dense\n",
    "import matplotlib.ticker as ticker\n",
    "from sklearn import preprocessing\n",
    "from sklearn.model_selection import train_test_split\n",
    "from sklearn.neighbors import KNeighborsClassifier\n",
    "from sklearn import metrics\n",
    "from sklearn.naive_bayes import GaussianNB\n",
    "from sklearn.tree import DecisionTreeClassifier\n",
    "from sklearn.metrics import classification_report, confusion_matrix\n",
    "from sklearn.svm import SVC\n",
    "from matplotlib.colors import ListedColormap\n",
    "from sklearn.metrics import classification_report, confusion_matrix\n",
    "import random\n",
    "from sklearn.ensemble import RandomForestRegressor\n",
    "from sklearn.metrics import mean_squared_error\n",
    "from sklearn.ensemble import RandomForestClassifier\n",
    "from sklearn.svm import SVC\n",
    "from sklearn.preprocessing import StandardScaler\n",
    "import plotly.graph_objs as go\n",
    "from plotly.offline import init_notebook_mode, iplot\n",
    "\n",
    "#podzielenie bazy na zbór treningowy i testowy\n",
    "df = pd.read_csv('Data/wine.csv')\n",
    "df.head()\n",
    "\n",
    "y=df.iloc[:, 11]\n",
    "X=df.iloc[:, :-1]\n",
    "X_train ,X_test ,y_train , y_test=train_test_split(X, y, test_size=0.2)\n",
    "X_train.head()\n",
    "X_train.shape\n",
    "X_test.head()\n",
    "X_test.shape\n",
    "print ('Zestaw treningowy:', X_train.shape,  y_train.shape)\n",
    "print()\n",
    "print ('Zestaw testowy:', X_test.shape,  y_test.shape)\n",
    "print()\n",
    "print(\"------------------------------------------------------------------------------------------------------------------------------------------------------\")\n",
    "#klasyfikator - k Najbliższych sąsiadów (dla wybranego k) gdzie k = 6\n",
    "print(\"Wyniki dla k równego 6\")\n",
    "print()\n",
    "k_6 = 6\n",
    "#Train Model and Predict  \n",
    "neigh6 = KNeighborsClassifier(n_neighbors = k_6).fit(X_train,y_train)\n",
    "yhat6 = neigh6.predict(X_test)\n",
    "print(\"Dokładność zestawu treningowego: %.2f %%\" %(100*metrics.accuracy_score(y_train, neigh6.predict(X_train))))\n",
    "print()\n",
    "accuracy_KN6 = 100*metrics.accuracy_score(y_test, yhat6)\n",
    "print(\"Dokładność zestawu testowego: %.2f %%\" %(accuracy_KN6))\n",
    "print()\n",
    "r6 = confusion_matrix(y_test, yhat6)\n",
    "print(\"Macierz błędu dla k=6\\n\", r6)\n",
    "print()\n",
    "result6 = classification_report(y_test, yhat6)\n",
    "print(\"Raport klasyfikacyjny dla k=6\\n\", result6)\n",
    "print()\n",
    "print(\"------------------------------------------------------------------------------------------------------------------------------------------------------\")\n",
    "#klasyfikator - k Najbliższych sąsiadów (dla wybranego k) gdzie k = 5\n",
    "print(\"Wyniki dla k równego 5\")\n",
    "print()\n",
    "k_5 = 5\n",
    "#Train Model and Predict  \n",
    "neigh_5 = KNeighborsClassifier(n_neighbors = k_5).fit(X_train,y_train)\n",
    "yhat_5 = neigh_5.predict(X_test)\n",
    "print()\n",
    "print(\"Dokładność zestawu treningowego: %.2f %%\" %(100*metrics.accuracy_score(y_train, neigh_5.predict(X_train))))\n",
    "print()\n",
    "accuracy_KN5 = 100*metrics.accuracy_score(y_test, yhat_5)\n",
    "print(\"Dokładność zestawu testowego: %.2f %%\" %(accuracy_KN5))\n",
    "print()\n",
    "r5 = confusion_matrix(y_test, yhat_5)\n",
    "print(\"Macierz błędu dla k=5\\n\", r5)\n",
    "print()\n",
    "result5 = classification_report(y_test, yhat_5)\n",
    "print(\"Raport klasyfikacyjny dla k=5\\n\", result5)\n",
    "print()\n",
    "print(\"------------------------------------------------------------------------------------------------------------------------------------------------------\")\n",
    "#klasyfikator - k Najbliższych sąsiadów (dla wybranego k) gdzie k = 2\n",
    "print(\"Wyniki dla k równego 2\")\n",
    "print()\n",
    "k_2 = 2\n",
    "#Train Model and Predict  \n",
    "neigh_2 = KNeighborsClassifier(n_neighbors = k_2).fit(X_train,y_train)\n",
    "yhat_2 = neigh_2.predict(X_test)\n",
    "print(\"Dokładność zestawu treningowego: %.2f %%\" %(100*metrics.accuracy_score(y_train, neigh_2.predict(X_train))))\n",
    "print()\n",
    "accuracy_KN2 = 100*metrics.accuracy_score(y_test, yhat_2)\n",
    "print(\"Dokładność zestawu testowego: %.2f %%\" %(accuracy_KN2))\n",
    "print()\n",
    "r2 = confusion_matrix(y_test, yhat_2)\n",
    "print(\"Macierz błędu dla k=2\\n\", r2)\n",
    "print()\n",
    "result2 = classification_report(y_test, yhat_2)\n",
    "print(\"Raport klasyfikacyjny dla k=2\\n\", result2)\n",
    "print()\n",
    "print(\"------------------------------------------------------------------------------------------------------------------------------------------------------\")\n",
    "#klasyfikator - k Najbliższych sąsiadów (dla wybranego k) gdzie k = 1\n",
    "print(\"Wyniki dla k równego 1\")\n",
    "print()\n",
    "print(\"------------------------------------------------------------------------------------------------------------------------------------------------------\")\n",
    "k_1 = 1\n",
    "#Train Model and Predict  \n",
    "neigh_1 = KNeighborsClassifier(n_neighbors = k_1).fit(X_train,y_train)\n",
    "yhat_1 = neigh_1.predict(X_test)\n",
    "print(\"Dokładność zestawu treningowego: %.2f %%\" %(100*metrics.accuracy_score(y_train, neigh_1.predict(X_train))))\n",
    "print()\n",
    "accuracy_KN1 = 100*metrics.accuracy_score(y_test, yhat_1)\n",
    "print(\"Dokładność zestawu testowego: %.2f %%\" %(accuracy_KN1))\n",
    "print()\n",
    "r1 = confusion_matrix(y_test, yhat_1)\n",
    "print(\"Macierz błędu dla k=1\\n\", r1)\n",
    "print()\n",
    "result1 = classification_report(y_test, yhat_1)\n",
    "print(\"Raport klasyfikacyjny dla k=1\\n\", result1)\n",
    "print()\n",
    "print(\"------------------------------------------------------------------------------------------------------------------------------------------------------\")\n",
    "#klasyfikator - Naive Bayes\n",
    "print(\"Naive Bayes\")\n",
    "print()\n",
    "print(\"------------------------------------------------------------------------------------------------------------------------------------------------------\")\n",
    "model = GaussianNB()\n",
    "model.fit(X_train,y_train)\n",
    "y_pred_GB = model.predict(X_test)\n",
    "accuracy_GB = metrics.accuracy_score(y_test, y_pred_GB)*100\n",
    "print(\"Dokładność zestawu testowego: %.2f %%\" %(accuracy_GB))\n",
    "print()\n",
    "r_GB = confusion_matrix(y_test, y_pred_GB)\n",
    "print(\"Macierz błędu dla Naive Bayes\\n\", r_GB)\n",
    "print()\n",
    "result_GB = classification_report(y_test, y_pred_GB)\n",
    "print(\"Raport klasyfikacyjny dla Naive Bayes\\n\", result_GB)\n",
    "print()\n",
    "print(\"------------------------------------------------------------------------------------------------------------------------------------------------------\")\n",
    "#klasyfikator - drzewa decyzyjne\n",
    "print(\"Drzewa decyzyjne\")\n",
    "print()\n",
    "print(\"------------------------------------------------------------------------------------------------------------------------------------------------------\")\n",
    "classifier = DecisionTreeClassifier()\n",
    "classifier.fit(X_train, y_train)\n",
    "y_pred_DR = classifier.predict(X_test)\n",
    "accuracy_DR = metrics.accuracy_score(y_test, y_pred_DR)*100\n",
    "print(\"Dokładność zestawu testowego: %.2f %%\" %(accuracy_DR))\n",
    "print()\n",
    "r_DR = confusion_matrix(y_test, y_pred_DR)\n",
    "print(\"Macierz błędu dla Drzewa decyzyjnych\\n\", r_DR)\n",
    "print()\n",
    "result_DR = classification_report(y_test, y_pred_DR)\n",
    "print(\"Raport klasyfikacyjny dla Drzewa decyzyjnych\\n\", result_DR)\n",
    "print()\n",
    "print(\"------------------------------------------------------------------------------------------------------------------------------------------------------\")\n",
    "#klasyfikator - sieci neuronowe\n",
    "print(\"Sieci neuronowe\")\n",
    "print(\"------------------------------------------------------------------------------------------------------------------------------------------------------\")\n",
    "random.seed(42)\n",
    "rf = RandomForestRegressor(n_estimators=10)\n",
    "rf.fit(X_train, y_train)\n",
    "model_SN = Sequential()\n",
    "model_SN.add(Dense(2000, input_dim=11, activation= \"relu\"))\n",
    "model_SN.add(Dense(100, activation= \"relu\"))\n",
    "model_SN.add(Dense(1))\n",
    "model_SN.summary() #Print model Summary\n",
    "# Compile model\n",
    "model_SN.compile(loss= \"mean_squared_error\" , optimizer=\"adam\", metrics=[\"mean_squared_error\"])\n",
    "# Fit Model\n",
    "model_SN.fit(X_train, y_train, epochs=10)\n",
    "pred_SN=rf.predict(X_test)\n",
    "score_SN = np.sqrt(mean_squared_error(y_test,pred_SN))\n",
    "print(100*score_SN)\n",
    "# Evaluation while fitting the model\n",
    "model_SN.fit(X_train, y_train, epochs=10, validation_data=(X_test, y_test))\n",
    "pred_SN= model_SN.predict(X_test)\n",
    "score_SN = np.sqrt(mean_squared_error(y_test,pred_SN))\n",
    "sc_SN = score_SN*100\n",
    "print(sc_SN)\n",
    "\n",
    "#Prediction using Random Forest \n",
    "y_test_rf = rf.predict(X_test)\n",
    "#Prediction using Neural Network\n",
    "y_test_nn = model.predict(X_test)\n",
    "#Random forest\n",
    "print(\"Random forest\")\n",
    "print(\"------------------------------------------------------------------------------------------------------------------------------------------------------\")\n",
    "clf=RandomForestClassifier(n_estimators=100)\n",
    "#making 100 decision trees from our data d1\n",
    "clf.fit(X_train,y_train)\n",
    "#training our machine by providing x inputs and providing answers/targets as y_train\n",
    "y_pred_Random=clf.predict(X_test)\n",
    "#calculating output of data not given to machine as Training data to check if our model works\n",
    "print(\"------------------------------------------------------------------------------------------------------------------------------------------------------\")\n",
    "accuracy_RandomF = metrics.accuracy_score(y_test, y_pred_Random)*100\n",
    "print(\"Dokładność zestawu testowego:\", accuracy_RandomF)\n",
    "print()\n",
    "r_Random = confusion_matrix(y_test, y_pred_Random)\n",
    "print(\"Macierz błędu dla Random forest\\n\", r_Random)\n",
    "print()\n",
    "result_Random = classification_report(y_test, y_pred_Random)\n",
    "print(\"Raport klasyfikacyjny dla Random forest\\n\", result_Random)\n",
    "print()\n",
    "#Support Vector Machines\n",
    "print(\"Support Vector Machines\")\n",
    "print()\n",
    "print(\"------------------------------------------------------------------------------------------------------------------------------------------------------\")\n",
    "svclassifier = SVC(kernel='linear')\n",
    "svclassifier.fit(X_train, y_train)\n",
    "y_pred_SVM = svclassifier.predict(X_test)\n",
    "accuracy_SVM = metrics.accuracy_score(y_test, y_pred_SVM)*100\n",
    "print(\"Dokładność zestawu testowego: %.2f %%\" %(accuracy_SVM))\n",
    "print()\n",
    "print(\"Macierz błędu dla Support Vector Machines\\n\",confusion_matrix(y_test,y_pred_SVM))\n",
    "print()\n",
    "print(\"Raport klasyfikacyjny dla Support Vector Machines\\n\", classification_report(y_test,y_pred_SVM))\n",
    "print()\n",
    "print(\"------------------------------------------------------------------------------------------------------------------------------------------------------\")\n",
    "print(\"Porównywanie klasyfikatorów\")\n",
    "print()\n",
    "data = [go.Bar(\n",
    "            x=[\"k = 6\", \"k = 5\", \"k = 2\", \"k = 1\", \"Naive Bayes\", \"Drzewa decyzyjne\", \"Sieci neuronowe\", \"Random Forest\", \"Support Vector Machines\"],\n",
    "            y=[accuracy_KN6, accuracy_KN5, accuracy_KN2, accuracy_KN1, accuracy_GB, accuracy_DR, sc_SN, accuracy_RandomF, accuracy_SVM],\n",
    "            marker=dict(color='rgb(158,202,225)',\n",
    "            line=dict(color='rgba(254, 69, 62, 1)',\n",
    "            width=1.5),\n",
    "        ),\n",
    "    opacity=0.6\n",
    "    )]\n",
    "\n",
    "iplot(data, filename='text-hover-bar')"
   ]
  },
  {
   "cell_type": "code",
   "execution_count": null,
   "metadata": {},
   "outputs": [],
   "source": []
  }
 ]
}